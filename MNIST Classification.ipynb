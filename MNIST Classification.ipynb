{
 "cells": [
  {
   "cell_type": "markdown",
   "id": "7fa4ee8b",
   "metadata": {},
   "source": [
    "# Deep neural network for MNIST Classification "
   ]
  },
  {
   "cell_type": "markdown",
   "id": "d0e10820",
   "metadata": {},
   "source": [
    "### Import the relevant packages "
   ]
  },
  {
   "cell_type": "code",
   "execution_count": 87,
   "id": "a01af23f",
   "metadata": {},
   "outputs": [],
   "source": [
    "import numpy as np\n",
    "import tensorflow as tf\n",
    "\n",
    "import tensorflow_datasets as tfds"
   ]
  },
  {
   "cell_type": "markdown",
   "id": "9b35bd5e",
   "metadata": {},
   "source": [
    "# Data "
   ]
  },
  {
   "cell_type": "code",
   "execution_count": 88,
   "id": "3b46755a",
   "metadata": {},
   "outputs": [],
   "source": [
    "mnist_dataset,mnist_info= tfds.load(name='mnist',with_info = True,as_supervised=True)"
   ]
  },
  {
   "cell_type": "code",
   "execution_count": 89,
   "id": "849d58c3",
   "metadata": {},
   "outputs": [],
   "source": [
    "mnist_train,mnist_test=mnist_dataset['train'],mnist_dataset['test']\n",
    "#mnist only offers training and test dataset, and since the training\n",
    "#dataset is bigger, we will get 0.1 from it to use as validation dataset\n",
    "num_validation_samples= 0.1 * mnist_info.splits['train'].num_examples\n",
    "num_validation_samples = tf.cast(num_validation_samples,tf.int64)\n",
    "\n",
    "\n",
    "num_test_samples=mnist_info.splits['test'].num_examples\n",
    "num_test_samples= tf.cast(num_test_samples,tf.int64)\n",
    "\n",
    "\n",
    "\n",
    "# defining the scaling function :\n",
    "\n",
    "def scale(image,label):\n",
    "    image = tf.cast(image,tf.float32)\n",
    "    image /=255.\n",
    "    return image,label\n",
    "\n",
    "scaled_validation_and_train= mnist_train.map(scale)\n",
    "test_data=mnist_test.map(scale)\n",
    "\n",
    "\n",
    "# Shuffling the data :\n",
    "buffer_size=10000\n",
    "shuffled_train_data=scaled_validation_and_train.shuffle(buffer_size)\n",
    "\n",
    "validation_data = shuffled_train_data.take(num_validation_samples)\n",
    "train_data=shuffled_train_data.skip(num_validation_samples)\n",
    "\n",
    "# so far we're good, we're gonna use the mini batch GD to train our model\n",
    "# this method offers the optimal tradefoff beetween accuracy and speed\n",
    "\n",
    "batch_size=100 #hyperparameter\n",
    "train_data=train_data.batch(batch_size)\n",
    "validation_data=validation_data.batch(num_validation_samples)\n",
    "test_data=test_data.batch(num_test_samples)\n",
    "\n",
    "\n",
    "validation_inputs,validation_targets=next(iter(validation_data))\n"
   ]
  },
  {
   "cell_type": "markdown",
   "id": "4654601a",
   "metadata": {},
   "source": [
    "## Outlining the model :\n"
   ]
  },
  {
   "cell_type": "code",
   "execution_count": 90,
   "id": "ef401d94",
   "metadata": {},
   "outputs": [],
   "source": [
    "input_size=784\n",
    "output_size=10\n",
    "hidden_layer_size=150\n",
    "\n",
    "\n",
    "model=tf.keras.Sequential([\n",
    "    tf.keras.layers.Flatten(input_shape=(28,28,1)),\n",
    "    tf.keras.layers.Dense(hidden_layer_size,activation='relu'),\n",
    "    tf.keras.layers.Dense(hidden_layer_size,activation='relu'),\n",
    "    tf.keras.layers.Dense(output_size,activation='softmax')\n",
    "    \n",
    "    \n",
    "    \n",
    "    \n",
    "])"
   ]
  },
  {
   "cell_type": "markdown",
   "id": "1e783b6f",
   "metadata": {},
   "source": [
    "## Choosing the optimizer and the loss function "
   ]
  },
  {
   "cell_type": "code",
   "execution_count": 91,
   "id": "ae44d33f",
   "metadata": {},
   "outputs": [],
   "source": [
    "model.compile(optimizer='adam',loss='sparse_categorical_crossentropy',metrics=['accuracy'])"
   ]
  },
  {
   "cell_type": "markdown",
   "id": "53dfe8f1",
   "metadata": {},
   "source": [
    "## Training "
   ]
  },
  {
   "cell_type": "code",
   "execution_count": 92,
   "id": "84aa7beb",
   "metadata": {},
   "outputs": [
    {
     "name": "stdout",
     "output_type": "stream",
     "text": [
      "Epoch 1/6\n",
      "540/540 - 7s - loss: 0.2894 - accuracy: 0.9175 - val_loss: 0.1468 - val_accuracy: 0.9583 - 7s/epoch - 13ms/step\n",
      "Epoch 2/6\n",
      "540/540 - 4s - loss: 0.1142 - accuracy: 0.9651 - val_loss: 0.1028 - val_accuracy: 0.9687 - 4s/epoch - 8ms/step\n",
      "Epoch 3/6\n",
      "540/540 - 4s - loss: 0.0770 - accuracy: 0.9769 - val_loss: 0.0769 - val_accuracy: 0.9772 - 4s/epoch - 8ms/step\n",
      "Epoch 4/6\n",
      "540/540 - 5s - loss: 0.0579 - accuracy: 0.9821 - val_loss: 0.0661 - val_accuracy: 0.9803 - 5s/epoch - 9ms/step\n",
      "Epoch 5/6\n",
      "540/540 - 6s - loss: 0.0461 - accuracy: 0.9857 - val_loss: 0.0556 - val_accuracy: 0.9847 - 6s/epoch - 11ms/step\n",
      "Epoch 6/6\n",
      "540/540 - 5s - loss: 0.0354 - accuracy: 0.9891 - val_loss: 0.0453 - val_accuracy: 0.9870 - 5s/epoch - 9ms/step\n"
     ]
    },
    {
     "data": {
      "text/plain": [
       "<keras.callbacks.History at 0x111997dc648>"
      ]
     },
     "execution_count": 92,
     "metadata": {},
     "output_type": "execute_result"
    }
   ],
   "source": [
    "num_epochs=6\n",
    "model.fit(train_data,epochs=num_epochs,validation_data=(validation_inputs,validation_targets),verbose=2)"
   ]
  },
  {
   "cell_type": "markdown",
   "id": "e8e67caf",
   "metadata": {},
   "source": [
    "# Test :"
   ]
  },
  {
   "cell_type": "code",
   "execution_count": 93,
   "id": "086a2995",
   "metadata": {},
   "outputs": [
    {
     "name": "stdout",
     "output_type": "stream",
     "text": [
      "1/1 [==============================] - 1s 857ms/step - loss: 0.0761 - accuracy: 0.9775\n"
     ]
    }
   ],
   "source": [
    "test_loss,test_accuracy=model.evaluate(test_data)"
   ]
  }
 ],
 "metadata": {
  "kernelspec": {
   "display_name": "Python py3-TF2.0",
   "language": "python",
   "name": "py3tf2.0"
  },
  "language_info": {
   "codemirror_mode": {
    "name": "ipython",
    "version": 3
   },
   "file_extension": ".py",
   "mimetype": "text/x-python",
   "name": "python",
   "nbconvert_exporter": "python",
   "pygments_lexer": "ipython3",
   "version": "3.7.13"
  }
 },
 "nbformat": 4,
 "nbformat_minor": 5
}
